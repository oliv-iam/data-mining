{
 "cells": [
  {
   "cell_type": "code",
   "execution_count": 59,
   "id": "82e9d3c5",
   "metadata": {},
   "outputs": [],
   "source": [
    "import os\n",
    "\n",
    "# data collection, nesting is dict(sample size : (time : [estimates])\n",
    "times = [t for t in range(1, 198111)]\n",
    "base = {ssize : {time : [] for time in range(1, 198111)} for ssize in [5000, 10000, 20000, 30000, 40000]}\n",
    "impr = {ssize : {time : [] for time in range(1, 198111)} for ssize in [5000, 10000, 20000, 30000, 40000]}\n",
    "\n",
    "# note: output files are in format: {input file}_{b / i}_{ssize}_{iteration}\n",
    "for file in [f for f in os.listdir(\"./output\")]:\n",
    "    with open (os.path.join(\"./output\", file), 'r') as f:\n",
    "        for n, est in enumerate(f, start=1):\n",
    "            if(file.split(\"_\")[1]) == 'b':\n",
    "                base[int(file.split(\"_\")[2])][int(n)].append(int(est.strip()))\n",
    "            else:\n",
    "                impr[int(file.split(\"_\")[2])][int(n)].append(int(est.strip()))"
   ]
  },
  {
   "cell_type": "code",
   "execution_count": null,
   "id": "ad3bbea3",
   "metadata": {},
   "outputs": [],
   "source": [
    "import numpy as np\n",
    "import matplotlib.pyplot as plt\n",
    "\n",
    "# helper methods\n",
    "def getmins(data, ssize):\n",
    "    mins = []\n",
    "    for t in times:\n",
    "        mins.append(min(data[ssize][t]))\n",
    "    return mins\n",
    "\n",
    "def getmax(data, ssize):\n",
    "    maxs = []\n",
    "    for t in times:\n",
    "        maxs.append(max(data[ssize][t]))\n",
    "    return maxs\n",
    "\n",
    "def getquartile(data, ssize, quartile):\n",
    "    quartiles = []\n",
    "    for t in times:\n",
    "        quartiles.append(np.percentile(data[ssize][t], quartile))\n",
    "    return quartiles\n",
    "\n",
    "def doubleplot(data1, alabel1, data2, alabel2, ssize, slabel):\n",
    "    colors = plt.get_cmap('Set3').colors\n",
    "    fig, (ax1, ax2) = plt.subplots(1, 2, figsize=(12, 5))\n",
    "\n",
    "    ax1.scatter(times, getmins(data1, ssize), s=5, label=\"Minimum\", color=colors[0])\n",
    "    ax1.scatter(times, getmax(data1, ssize), s=5, label=\"Maximum\", color=colors[7])\n",
    "    ax1.scatter(times, getquartile(data1, ssize, 25), s=5, label=\"1st Quartile\", color=colors[2])\n",
    "    ax1.scatter(times, getquartile(data1, ssize, 50), s=5, label=\"Median\", color=colors[3])\n",
    "    ax1.scatter(times, getquartile(data1, ssize, 75), s=5, label=\"3rd Quartile\", color=colors[4])\n",
    "    ax1.set_xlabel(\"Time\")\n",
    "    ax1.set_ylabel(\"Estimate for Number of Triangles\")\n",
    "    ax1.set_title(f\"{alabel1} Triest Estimate vs. Time for Sample Size {slabel}\")\n",
    "\n",
    "    ax2.scatter(times, getmins(data2, ssize), s=5, color=colors[0])\n",
    "    ax2.scatter(times, getmax(data2, ssize), s=5, color=colors[7])\n",
    "    ax2.scatter(times, getquartile(data2, ssize, 25), s=5, color=colors[2])\n",
    "    ax2.scatter(times, getquartile(data2, ssize, 50), s=5, color=colors[3])\n",
    "    ax2.scatter(times, getquartile(data2, ssize, 75), s=5, color=colors[4])\n",
    "    ax2.set_xlabel(\"Time\")\n",
    "    ax2.set_ylabel(\"Estimate for Number of Triangles\")\n",
    "    ax2.set_title(f\"{alabel2} Triest Estimate vs. Time for Sample Size {slabel}\")\n",
    "\n",
    "    # lines_labels = [ax.get_legend_handles_labels() for ax in fig.axes]\n",
    "    # lines, labels = [sum(l, []) for l in zip(*lines_labels)]\n",
    "    # fig.legend(lines, labels, loc='upper center', ncol=5)\n",
    "    fig.legend(loc=\"upper center\", bbox_to_anchor=(0.5, 1.05), ncol=5)\n",
    "\n",
    "    plt.tight_layout() \n",
    "    plt.show()"
   ]
  },
  {
   "cell_type": "markdown",
   "id": "76a3f8ac",
   "metadata": {},
   "source": [
    "Plots: Triest Base Algorithm"
   ]
  },
  {
   "cell_type": "code",
   "execution_count": null,
   "id": "9cc5ffd5",
   "metadata": {},
   "outputs": [],
   "source": [
    "doubleplot(base, \"Base\", impr, \"Improved\", 5000, \"5,000\")\n",
    "doubleplot(base, \"Base\", impr, \"Improved\", 10000, \"10,000\")\n",
    "doubleplot(base, \"Base\", impr, \"Improved\", 20000, \"20,000\")\n",
    "doubleplot(base, \"Base\", impr, \"Improved\", 30000, \"30,000\")\n",
    "doubleplot(base, \"Base\", impr, \"Improved\", 40000, \"40,000\")"
   ]
  },
  {
   "cell_type": "code",
   "execution_count": null,
   "id": "3cc25b24",
   "metadata": {},
   "outputs": [],
   "source": []
  }
 ],
 "metadata": {
  "kernelspec": {
   "display_name": "graph",
   "language": "python",
   "name": "python3"
  },
  "language_info": {
   "codemirror_mode": {
    "name": "ipython",
    "version": 3
   },
   "file_extension": ".py",
   "mimetype": "text/x-python",
   "name": "python",
   "nbconvert_exporter": "python",
   "pygments_lexer": "ipython3",
   "version": "3.13.2"
  }
 },
 "nbformat": 4,
 "nbformat_minor": 5
}
